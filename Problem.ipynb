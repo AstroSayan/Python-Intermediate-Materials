{
 "cells": [
  {
   "cell_type": "code",
   "execution_count": 16,
   "metadata": {},
   "outputs": [
    {
     "name": "stdout",
     "output_type": "stream",
     "text": [
      "(1,)\n",
      "(1,)\n",
      "(1,)\n",
      "(1,)\n",
      "(1,)\n",
      "(1,)\n",
      "3\n"
     ]
    }
   ],
   "source": [
    "from itertools import combinations\n",
    "import math\n",
    "\n",
    "def problem(N,K,arr):\n",
    "    #base cases\n",
    "    if K<min(arr):\n",
    "        return 0\n",
    "    elif K in arr:\n",
    "        count = 0\n",
    "        arr.sort()\n",
    "        index = arr.index(K)\n",
    "        count+=(index+1)\n",
    "        for i in range(index+2):\n",
    "            if i>1:\n",
    "                for x in combinations(arr,i):\n",
    "                    print(x)\n",
    "                    if math.prod(x)<=K:\n",
    "                        print(x)\n",
    "                        count+=1\n",
    "        return count\n",
    "    else:\n",
    "        count = 0\n",
    "        arr.sort()\n",
    "        count+=N\n",
    "        for i in range(N+1):\n",
    "            if i>1:\n",
    "                for x in combinations(arr,i):\n",
    "                    if math.prod(x)<=K:\n",
    "                        print(x)\n",
    "                        count+=1\n",
    "        return count\n",
    "        \n",
    "N = 3\n",
    "arr = [1,1,1]\n",
    "K = 1\n",
    "print(problem(N,K,arr))                \n",
    "            "
   ]
  },
  {
   "cell_type": "code",
   "execution_count": null,
   "metadata": {},
   "outputs": [],
   "source": []
  },
  {
   "cell_type": "code",
   "execution_count": null,
   "metadata": {},
   "outputs": [],
   "source": []
  }
 ],
 "metadata": {
  "kernelspec": {
   "display_name": "Python 3",
   "language": "python",
   "name": "python3"
  },
  "language_info": {
   "codemirror_mode": {
    "name": "ipython",
    "version": 3
   },
   "file_extension": ".py",
   "mimetype": "text/x-python",
   "name": "python",
   "nbconvert_exporter": "python",
   "pygments_lexer": "ipython3",
   "version": "3.8.3"
  }
 },
 "nbformat": 4,
 "nbformat_minor": 4
}
