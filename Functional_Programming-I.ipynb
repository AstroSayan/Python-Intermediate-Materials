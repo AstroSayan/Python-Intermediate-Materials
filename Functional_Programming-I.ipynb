{
 "cells": [
  {
   "cell_type": "markdown",
   "metadata": {},
   "source": [
    "# Functional Programming-I"
   ]
  },
  {
   "cell_type": "markdown",
   "metadata": {},
   "source": [
    "## lambda\n",
    "One line anonymous function. Multiple lines can be implemented."
   ]
  },
  {
   "cell_type": "code",
   "execution_count": 7,
   "metadata": {},
   "outputs": [
    {
     "name": "stdout",
     "output_type": "stream",
     "text": [
      "7\n",
      "[(4, -5), (-5, -2), (1, 2), (-7, 4), (6, 8)]\n",
      "[(-5, -2), (-7, 4), (4, -5), (1, 2), (6, 8)]\n"
     ]
    }
   ],
   "source": [
    "# Single line lambda function\n",
    "add = lambda x,y: x+y                    # Defining lambda function for adding two numbers\n",
    "sum1 = add(3,4)                          # Passing two args to the function\n",
    "print(sum1)                              # 7\n",
    "\n",
    "# Application of lambda function\n",
    "points2D = [(1,2),(4,-5),(-7,4),(6,8),(-5,-2)]\n",
    "\n",
    "points2D_sort = sorted(points2D, key=lambda x: x[1])              # Sorting w.r.t 2nd element of the tuples \n",
    "print(points2D_sort)                     # [(4, -5), (-5, -2), (1, 2), (-7, 4), (6, 8)]\n",
    "\n",
    "points2Dsum_sort = sorted(points2D, key=lambda x: x[0]+x[1])      # Sorting w.r.t sum of the elements of the tuples \n",
    "print(points2Dsum_sort)                  # [(-5, -2), (-7, 4), (4, -5), (1, 2), (6, 8)]\n",
    "# Multi line lambda function\n",
    "# Not required"
   ]
  },
  {
   "cell_type": "markdown",
   "metadata": {},
   "source": [
    "## map\n",
    "maps an iterable on a function "
   ]
  },
  {
   "cell_type": "code",
   "execution_count": 10,
   "metadata": {},
   "outputs": [
    {
     "name": "stdout",
     "output_type": "stream",
     "text": [
      "[1, 8, 27, 64]\n",
      "[1, 8, 27, 64]\n"
     ]
    }
   ],
   "source": [
    "a = [1,2,3,4]\n",
    "func = lambda x: x**3\n",
    "\n",
    "# Syntax: map(function, iterable/sequence)\n",
    "l = list(map(func,a))\n",
    "print(l)                                   # [1, 8, 27, 64]\n",
    "\n",
    "# Same problem solution with list\n",
    "l = [x**3 for x in a]\n",
    "print(l)                                   # [1, 8, 27, 64]"
   ]
  },
  {
   "cell_type": "markdown",
   "metadata": {},
   "source": [
    "## filter\n",
    "filter out elements of an iterable according to the specified function key. Returns an iterable of same type."
   ]
  },
  {
   "cell_type": "code",
   "execution_count": 12,
   "metadata": {},
   "outputs": [
    {
     "name": "stdout",
     "output_type": "stream",
     "text": [
      "[24, 63, 9, 86, 98, 39, 16, 8, 54, 89, 62, 40, 93, 27, 22, 38, 47, 80, 83, 77]\n",
      "[24, 86, 98, 16, 8, 54, 62, 40, 22, 38, 80]\n"
     ]
    }
   ],
   "source": [
    "# List out even numbers from a list of random integers\n",
    "import random as r\n",
    "nums = r.sample(range(1,100),20)          # Generates 20 random numbers within 1 to 100\n",
    "\n",
    "# Syntax: filter(function, iterable/sequence)\n",
    "even = filter(lambda x: x%2==0, nums)\n",
    "print(nums)                               # [24, 63, 9, 86, 98, 39, 16, 8, 54, 89, 62, 40, 93, 27, 22, 38, 47, 80, 83, 77]\n",
    "print(list(even))                         # [24, 86, 98, 16, 8, 54, 62, 40, 22, 38, 80]\n",
    "\n",
    "# Same problem solution with list\n",
    "even = [x for x in nums if x%2==0]\n",
    "print(even)                               # [24, 86, 98, 16, 8, 54, 62, 40, 22, 38, 80]"
   ]
  },
  {
   "cell_type": "markdown",
   "metadata": {},
   "source": [
    "## reduce\n",
    "performs specified function over the elements of a sequence one by one yielding the previous result and perform the same operation on that yielded result and next element. It continues until there is no element left."
   ]
  },
  {
   "cell_type": "code",
   "execution_count": 14,
   "metadata": {},
   "outputs": [
    {
     "name": "stdout",
     "output_type": "stream",
     "text": [
      "24\n"
     ]
    }
   ],
   "source": [
    "from functools import reduce\n",
    "\n",
    "a = [1,2,3,4]\n",
    "func = lambda x,y: x*y\n",
    "\n",
    "# Syntax: reduce(function, iterable/sequence)\n",
    "l = reduce(func,a)\n",
    "print(l)                                   # 24"
   ]
  },
  {
   "cell_type": "code",
   "execution_count": null,
   "metadata": {},
   "outputs": [],
   "source": []
  },
  {
   "cell_type": "code",
   "execution_count": null,
   "metadata": {},
   "outputs": [],
   "source": []
  }
 ],
 "metadata": {
  "kernelspec": {
   "display_name": "Python 3",
   "language": "python",
   "name": "python3"
  },
  "language_info": {
   "codemirror_mode": {
    "name": "ipython",
    "version": 3
   },
   "file_extension": ".py",
   "mimetype": "text/x-python",
   "name": "python",
   "nbconvert_exporter": "python",
   "pygments_lexer": "ipython3",
   "version": "3.8.3"
  }
 },
 "nbformat": 4,
 "nbformat_minor": 4
}
