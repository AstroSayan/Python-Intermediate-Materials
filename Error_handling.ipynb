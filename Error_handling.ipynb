{
 "cells": [
  {
   "cell_type": "markdown",
   "metadata": {},
   "source": [
    "# Errors and Exceptions"
   ]
  },
  {
   "cell_type": "markdown",
   "metadata": {},
   "source": [
    "## Types of errors in Python\n",
    "1. SyntaxError\n",
    "2. TypeError\n",
    "3. ModuleNotFoundError\n",
    "4. NameError\n",
    "5. FileNotFoundError\n",
    "6. ValueError\n",
    "7. IndexError\n",
    "8. KeyError\n",
    "9. AssertionError\n",
    "10. ZeroDivisionError... etc."
   ]
  },
  {
   "cell_type": "markdown",
   "metadata": {},
   "source": [
    "## Raising exception"
   ]
  },
  {
   "cell_type": "code",
   "execution_count": null,
   "metadata": {},
   "outputs": [],
   "source": [
    "# Using raise\n",
    "x = -5\n",
    "if x<0:\n",
    "    raise Exception('x should be positive')\n",
    "    \n",
    "#---------------------------------------------------------------------------\n",
    "#Exception                                 Traceback (most recent call last)\n",
    "#<ipython-input-1-f77d15e8a974> in <module>\n",
    "#       1 x = -5\n",
    "#       2 if x<0:\n",
    "# ----> 3     raise Exception('x should be positive')\n",
    "\n",
    "# Exception: x should be positive \n",
    "\n",
    "\n",
    "# Using assert\n",
    "assert(x>=0), 'x should be positive'\n",
    "\n",
    "# ---------------------------------------------------------------------------\n",
    "# AssertionError                            Traceback (most recent call last)\n",
    "# <ipython-input-4-5ca1792af589> in <module>\n",
    "#      15 \n",
    "#      16 # Using assert\n",
    "# ---> 17 assert(x>=0), 'x should be positive'\n",
    "\n",
    "# AssertionError: x should be positive"
   ]
  },
  {
   "cell_type": "markdown",
   "metadata": {},
   "source": [
    "# Error handling"
   ]
  },
  {
   "cell_type": "code",
   "execution_count": null,
   "metadata": {},
   "outputs": [],
   "source": [
    "# Without specifying the exception\n",
    "try:\n",
    "    a = 5/0\n",
    "except:                                                              # An error occured\n",
    "    print(\"An error occured\")                                        # In the finally block\n",
    "finally:\n",
    "    print(\"In the finally block\")\n",
    "    \n",
    "# OR (Printing the exception message)\n",
    "\n",
    "try:\n",
    "    a = 5/0\n",
    "except Exception as e:                                              # division by zero\n",
    "    print(e)                                                        # In the finally block\n",
    "finally:\n",
    "    print(\"In the finally block\")\n",
    "    \n",
    "# Addressing multiple exceptions by specifying them\n",
    "try:\n",
    "    a = 5 / 1\n",
    "    b = a + '10'\n",
    "except ZeroDivisionError as e:                                      # division by zero\n",
    "    print(e)                                                        # In the finally block\n",
    "except TypeError as e:                                              # unsupported operand type(s) for +: 'float' and 'str'\n",
    "    print(e)                                                        # In the finally block    \n",
    "finally:\n",
    "    print(\"In the finally block\")\n",
    "    \n",
    "# If no exception occured  \n",
    "try:\n",
    "    a = 5 / 1\n",
    "    b = a + 10\n",
    "except ZeroDivisionError as e:                                      \n",
    "    print(e)                                                        \n",
    "except TypeError as e:                                              \n",
    "    print(e) \n",
    "else:\n",
    "    print(\"Everything's working fine!\")                             # Everything's working fine!\n",
    "finally:                                                            # In the finally block\n",
    "    print(\"In the finally block\")"
   ]
  },
  {
   "cell_type": "markdown",
   "metadata": {},
   "source": [
    "## Defining new exceptions"
   ]
  },
  {
   "cell_type": "code",
   "execution_count": null,
   "metadata": {},
   "outputs": [],
   "source": [
    "# Defining new exception as a child class of Exception class\n",
    "# This child class can be customized\n",
    "class ValueTooHighError(Exception):\n",
    "    pass\n",
    "\n",
    "x = 100\n",
    "if x>20:\n",
    "    raise ValueTooHighError(\"Value is too high\")\n",
    "    \n",
    "# ---------------------------------------------------------------------------\n",
    "# ValueTooHighError                         Traceback (most recent call last)\n",
    "# <ipython-input-10-8e8f86e0fbdd> in <module>\n",
    "#       5 x = 100\n",
    "#       6 if x>20:\n",
    "# ----> 7     raise ValueTooHighError(\"Value is too high\")\n",
    "\n",
    "# ValueTooHighError: Value is too high    "
   ]
  },
  {
   "cell_type": "code",
   "execution_count": null,
   "metadata": {},
   "outputs": [],
   "source": []
  }
 ],
 "metadata": {
  "kernelspec": {
   "display_name": "Python 3",
   "language": "python",
   "name": "python3"
  },
  "language_info": {
   "codemirror_mode": {
    "name": "ipython",
    "version": 3
   },
   "file_extension": ".py",
   "mimetype": "text/x-python",
   "name": "python",
   "nbconvert_exporter": "python",
   "pygments_lexer": "ipython3",
   "version": "3.8.3"
  }
 },
 "nbformat": 4,
 "nbformat_minor": 4
}
