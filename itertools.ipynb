{
 "cells": [
  {
   "cell_type": "markdown",
   "metadata": {},
   "source": [
    "# itertools Module"
   ]
  },
  {
   "cell_type": "markdown",
   "metadata": {},
   "source": [
    "## product\n",
    "Returns Cartesian product of two iterators as an iterable of combination tuples."
   ]
  },
  {
   "cell_type": "code",
   "execution_count": null,
   "metadata": {},
   "outputs": [],
   "source": [
    "from itertools import product\n",
    "\n",
    "a = [1,2]\n",
    "b = [3,4]\n",
    "\n",
    "prod = product(a,b)\n",
    "print(list(prod))                            # [(1, 3), (1, 4), (2, 3), (2, 4)]\n",
    "\n",
    "# Repeatation is permitted: performs cartesian product over itself as many times as the value of repeat attribute \n",
    "x = [3]\n",
    "prod_rep = product(a,x, repeat=2)\n",
    "print(list(prod_rep))                        # [(1, 3, 1, 3), (1, 3, 2, 3), (2, 3, 1, 3), (2, 3, 2, 3)]"
   ]
  },
  {
   "cell_type": "markdown",
   "metadata": {},
   "source": [
    "## permutations\n",
    "Returns all possible orderings of an iterator elements with an optional specified length as an iterable of combination tuples."
   ]
  },
  {
   "cell_type": "code",
   "execution_count": null,
   "metadata": {},
   "outputs": [],
   "source": [
    "from itertools import permutations\n",
    "\n",
    "a = [1,2,3]\n",
    "perm = permutations(a)\n",
    "print(list(perm))                           # [(1, 2, 3), (1, 3, 2), (2, 1, 3), (2, 3, 1), (3, 1, 2), (3, 2, 1)]\n",
    "\n",
    "# If all possible orderings of any two elements is required\n",
    "perm = permutations(a, 2)\n",
    "print(list(perm))                           # [(1, 2), (1, 3), (2, 1), (2, 3), (3, 1), (3, 2)]"
   ]
  },
  {
   "cell_type": "markdown",
   "metadata": {},
   "source": [
    "## combinations\n",
    "Returns all possible combinations of an iterator elements with a mandatory specified length as an iterable of combination tuples. Replacement is not permitted.\n",
    "## combinations_with_replacement\n",
    "Same as combinations but replacement is permitted."
   ]
  },
  {
   "cell_type": "code",
   "execution_count": 40,
   "metadata": {},
   "outputs": [
    {
     "name": "stdout",
     "output_type": "stream",
     "text": [
      "[(1, 1, 1)]\n",
      "[(1, 1), (1, 1), (1, 1), (1, 1), (1, 1), (1, 1)]\n"
     ]
    }
   ],
   "source": [
    "from itertools import combinations, combinations_with_replacement\n",
    "\n",
    "a = [1,1,1]\n",
    "comb = combinations(a, 3)\n",
    "print(list(comb))                           # [(1, 2), (1, 3), (1, 4), (2, 3), (2, 4), (3, 4)]\n",
    "\n",
    "comb_rep = combinations_with_replacement(a, 2)\n",
    "print(list(comb_rep))                       # [(1, 1), (1, 2), (1, 3), (1, 4), (2, 2), (2, 3), (2, 4), (3, 3), (3, 4), (4, 4)]"
   ]
  },
  {
   "cell_type": "markdown",
   "metadata": {},
   "source": [
    "## accumulate\n",
    "Returns an iterable of accumulated sum by default or any specified binary function "
   ]
  },
  {
   "cell_type": "code",
   "execution_count": null,
   "metadata": {},
   "outputs": [],
   "source": [
    "from itertools import accumulate\n",
    "\n",
    "a = [1,2,3,4]\n",
    "acc = accumulate(a)                        # Sum by default\n",
    "print(list(acc))                           # [1, 3, 6, 10]\n",
    "\n",
    "# Defining another binary function to perform accumulation\n",
    "acc = accumulate(a, func=lambda x,y: x*y)  # Multiplication           \n",
    "print(list(acc))                           # [1, 2, 6, 24]\n",
    "\n",
    "a = [1,2,5,3,4]\n",
    "acc = accumulate(a, func=max)              # Maximum between previously held maximum value and next value           \n",
    "print(list(acc))                           # [1, 2, 5, 5, 5]"
   ]
  },
  {
   "cell_type": "markdown",
   "metadata": {},
   "source": [
    "## groupby\n",
    "Returns an iterable of key and corresponding groups according to the specified key (Provided the iterable should be sorted as per the key)"
   ]
  },
  {
   "cell_type": "code",
   "execution_count": null,
   "metadata": {},
   "outputs": [],
   "source": [
    "from itertools import groupby\n",
    "\n",
    "a = [1,2,3,4]\n",
    "grp = groupby(a, key=lambda x: x<3)       # Groups elements which are greater than 3 with corresponding key\n",
    "\n",
    "# Printing the groupby object\n",
    "for key, value in grp:\n",
    "    print(key, list(value))               # True [1, 2]\n",
    "                                          # False [3, 4]\n",
    "        \n",
    "persons = [{'name': 'Jack', 'age': 25}, {'name': 'Tim', 'age': 25}, {'name': 'Lisa', 'age': 27}, {'name': 'Claire', 'age': 28}]  \n",
    "\n",
    "grp = groupby(persons, key=lambda x: x['age'])       # Groups persons who have same age with corresponding key\n",
    "\n",
    "# Printing the groupby object\n",
    "for key, value in grp:\n",
    "    print(key, list(value))               # 25 [{'name': 'Jack', 'age': 25}, {'name': 'Tim', 'age': 25}]\n",
    "                                          # 27 [{'name': 'Lisa', 'age': 27}]\n",
    "                                          # 28 [{'name': 'Claire', 'age': 28}]"
   ]
  },
  {
   "cell_type": "markdown",
   "metadata": {},
   "source": [
    "## infinite iterators"
   ]
  },
  {
   "cell_type": "code",
   "execution_count": null,
   "metadata": {},
   "outputs": [],
   "source": [
    "from itertools import count, cycle, repeat\n",
    "\n",
    "# Returns an infinite iterable starting from the given number and increments it by 1\n",
    "for i in count(10):\n",
    "    print(i, end=' ')                     # 10 11 12 13 14 15\n",
    "    if i==15:                             # Breaks infinite loop after counting 15 times\n",
    "        break\n",
    "        \n",
    "# Infinitely cycles through an iterable\n",
    "a = [1,2,3,4]\n",
    "f = 0 \n",
    "print(\"\")\n",
    "for i in cycle(a):\n",
    "    print(i, end=' ')                     # 1 2 3 4 1 2 3 4 1 2 3 4 1 2 3 4\n",
    "    f+=1\n",
    "    if f==4*len(a):                       # Breaks infinite loop after printing the list for 4 times\n",
    "        break\n",
    "        \n",
    "# Repeat a given element for specified times (if not mentioned then infinite times by default)\n",
    "print(\"\")\n",
    "for i in repeat(2, 6):                    # Prints 2, 6 times\n",
    "    print(i, end=' ')                     # 2 2 2 2 2 2 "
   ]
  },
  {
   "cell_type": "code",
   "execution_count": null,
   "metadata": {},
   "outputs": [],
   "source": []
  }
 ],
 "metadata": {
  "kernelspec": {
   "display_name": "Python 3",
   "language": "python",
   "name": "python3"
  },
  "language_info": {
   "codemirror_mode": {
    "name": "ipython",
    "version": 3
   },
   "file_extension": ".py",
   "mimetype": "text/x-python",
   "name": "python",
   "nbconvert_exporter": "python",
   "pygments_lexer": "ipython3",
   "version": "3.8.3"
  }
 },
 "nbformat": 4,
 "nbformat_minor": 4
}
