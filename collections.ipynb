{
 "cells": [
  {
   "cell_type": "markdown",
   "metadata": {},
   "source": [
    "# collections Module"
   ]
  },
  {
   "cell_type": "markdown",
   "metadata": {},
   "source": [
    "## Counter\n",
    "It is a container that stores elements as dict \"keys\" and their counted occurance as respective \"values\". Used for counting ocurances of iterable elements."
   ]
  },
  {
   "cell_type": "code",
   "execution_count": 18,
   "metadata": {},
   "outputs": [
    {
     "name": "stdout",
     "output_type": "stream",
     "text": [
      "dict_items([('x', 2), ('y', 3), ('z', 1)])\n",
      "dict_keys(['x', 'y', 'z'])\n",
      "dict_values([2, 3, 1])\n",
      "[('y', 3)]\n",
      "[('y', 3), ('x', 2)]\n",
      "['x', 'x', 'y', 'y', 'y', 'z']\n"
     ]
    }
   ],
   "source": [
    "from collections import Counter\n",
    "\n",
    "a = \"xxyyyz\"\n",
    "my_counter = Counter(a)\n",
    "\n",
    "# Dict operations\n",
    "print(my_counter.items())                 # dict_items([('x', 2), ('y', 3), ('z', 1)])\n",
    "print(my_counter.keys())                  # dict_keys(['x', 'y', 'z'])\n",
    "print(my_counter.values())                # dict_values([2, 3, 1])\n",
    "\n",
    "# Most common element\n",
    "# my_counter.most_common(<no. of most common elements>)\n",
    "print(my_counter.most_common(1))          # [('y', 3)]\n",
    "print(my_counter.most_common(2))          # [('y', 3), ('x', 2)]\n",
    "\n",
    "# Returning an iterable over elements as many times as it counts\n",
    "print(list(my_counter.elements()))        # ['x', 'x', 'y', 'y', 'y', 'z']"
   ]
  },
  {
   "cell_type": "code",
   "execution_count": 21,
   "metadata": {},
   "outputs": [
    {
     "name": "stdout",
     "output_type": "stream",
     "text": [
      "[(3, 4)]\n"
     ]
    }
   ],
   "source": [
    "a = [1,4,4,4,5,3,3,3,3]\n",
    "my_counter = Counter(a)\n",
    "print(my_counter.most_common(1))"
   ]
  },
  {
   "cell_type": "markdown",
   "metadata": {},
   "source": [
    "## namedtuple\n",
    "Easy way to create a lightweight object like \"struct\". Lists the tuple contents in a \"name=value\" format."
   ]
  },
  {
   "cell_type": "code",
   "execution_count": null,
   "metadata": {},
   "outputs": [],
   "source": [
    "from collections import namedtuple\n",
    "\n",
    "# Call format\n",
    "# collections.namedtuple(typename, field_names)\n",
    "Point = namedtuple('Point','x,y')        # Point(x=1, y=-4)\n",
    "pt = Point(1,-4)\n",
    "\n",
    "# Printing container\n",
    "print(pt)\n",
    "\n",
    "# Accessing each element by its name\n",
    "print(pt.x, pt.y)                        # 1 -4"
   ]
  },
  {
   "cell_type": "markdown",
   "metadata": {},
   "source": [
    "## defaultdict\n",
    "If the key doesn't exist in the dictionary it initializes the key value with the default value of the specified datatype and returns it. Normal dictionary would throw a keyError."
   ]
  },
  {
   "cell_type": "code",
   "execution_count": null,
   "metadata": {},
   "outputs": [],
   "source": [
    "from collections import defaultdict\n",
    "\n",
    "# Call format\n",
    "# collections.defaultdict(<datatype>)\n",
    "d = defaultdict(int)                    # datatype: int\n",
    "d['a'] = 1\n",
    "d['b'] = 2\n",
    "print(d)                                # defaultdict(<class 'int'>, {'a': 1, 'b': 2})\n",
    "\n",
    "# Accessing a non-existent key\n",
    "print(d['c'])                           # 0\n",
    "\n",
    "d = defaultdict(list)                    # datatype: list\n",
    "d['a'] = 1\n",
    "d['b'] = 2\n",
    "print(d)                                # defaultdict(<class 'list'>, {'a': 1, 'b': 2})\n",
    "\n",
    "# Accessing a non-existent key\n",
    "print(d['c'])                           # []"
   ]
  },
  {
   "cell_type": "markdown",
   "metadata": {},
   "source": [
    "## deque\n",
    "It is a double-ended queue i.e. an element can be appened or removed from both sides of the data structure."
   ]
  },
  {
   "cell_type": "code",
   "execution_count": null,
   "metadata": {},
   "outputs": [],
   "source": [
    "from collections import deque\n",
    "\n",
    "# Initialization\n",
    "dq = deque()\n",
    "\n",
    "# Appending element to the end one by one\n",
    "dq.append(1)\n",
    "dq.append(2)\n",
    "print(dq)                             # deque([1, 2])\n",
    "\n",
    "# Appending elements to the end in one line\n",
    "dq.extend([3,4])\n",
    "print(dq)                             # deque([1, 2, 3, 4])\n",
    "\n",
    "# Appending element to the start one by one\n",
    "dq.appendleft(0)\n",
    "print(dq)                             # deque([0, 1, 2, 3, 4])\n",
    "\n",
    "# Appending elements to the start in one line\n",
    "dq.extendleft([-1,-2,-3,-4])\n",
    "print(dq)                             # deque([-4, -3, -2, -1, 0, 1, 2, 3, 4])\n",
    "\n",
    "# Deleting element from the end\n",
    "dq.pop()\n",
    "print(dq)                             # deque([-4, -3, -2, -1, 0, 1, 2, 3])\n",
    "\n",
    "# Deleting element from the start\n",
    "dq.popleft()\n",
    "print(dq)                             # deque([-3, -2, -1, 0, 1, 2, 3])\n",
    "\n",
    "# Rotating elements\n",
    "# deque_obj.rotate(<no. of rotation>)\n",
    "\n",
    "# Rotate all elements 1 place to the right\n",
    "dq.rotate(1)\n",
    "print(dq)                            # deque([3, -3, -2, -1, 0, 1, 2])\n",
    "\n",
    "# Rotate all elements 2 places to the right\n",
    "dq.rotate(2)\n",
    "print(dq)                            # deque([1, 2, 3, -3, -2, -1, 0])\n",
    "\n",
    "# Rotate all elements 3 places to the left\n",
    "dq.rotate(-3)                        # deque([-3, -2, -1, 0, 1, 2, 3])\n",
    "print(dq)\n",
    "\n",
    "# Deleting all elements\n",
    "dq.clear()\n",
    "print(dq)                             # deque([])"
   ]
  },
  {
   "cell_type": "code",
   "execution_count": null,
   "metadata": {},
   "outputs": [],
   "source": []
  }
 ],
 "metadata": {
  "kernelspec": {
   "display_name": "Python 3",
   "language": "python",
   "name": "python3"
  },
  "language_info": {
   "codemirror_mode": {
    "name": "ipython",
    "version": 3
   },
   "file_extension": ".py",
   "mimetype": "text/x-python",
   "name": "python",
   "nbconvert_exporter": "python",
   "pygments_lexer": "ipython3",
   "version": "3.8.3"
  }
 },
 "nbformat": 4,
 "nbformat_minor": 4
}
