{
 "cells": [
  {
   "cell_type": "markdown",
   "metadata": {},
   "source": [
    "# Decorators & Generators"
   ]
  },
  {
   "cell_type": "markdown",
   "metadata": {},
   "source": [
    "Decorators are tools to wrap a funtion within another function. Decorator extends the behaviour of a function without explicitly modifying it."
   ]
  },
  {
   "cell_type": "code",
   "execution_count": null,
   "metadata": {},
   "outputs": [],
   "source": [
    "# Syntax of Decorators\n",
    "# def mydecorator(func):\n",
    "#    <functionality>\n",
    "\n",
    "# @mydecorator\n",
    "# def myfunction(args):\n",
    "#     <functionality>"
   ]
  },
  {
   "cell_type": "markdown",
   "metadata": {},
   "source": [
    "## Function Decorators\n",
    "Decorators defined as functions"
   ]
  },
  {
   "cell_type": "code",
   "execution_count": null,
   "metadata": {},
   "outputs": [],
   "source": [
    "# Decorator of a function with no arguments or keyward arguments \n",
    "\n",
    "def start_end_dec(func):\n",
    "    def wrapper():\n",
    "        print(\"Start\")\n",
    "        func()\n",
    "        print(\"End\")\n",
    "    return wrapper\n",
    "\n",
    "@start_end_dec\n",
    "def print_name():\n",
    "    print(\"Sayan Das\")\n",
    "    \n",
    "print_name()                                                  # Start\n",
    "                                                              # Sayan Das\n",
    "                                                              # End"
   ]
  },
  {
   "cell_type": "code",
   "execution_count": null,
   "metadata": {},
   "outputs": [],
   "source": [
    "import functools\n",
    "# Decorator of a function with arguments or keyword arguments \n",
    "\n",
    "def start_end_dec(func):\n",
    "    def wrapper(*args, **kwargs):\n",
    "        print(\"Start\")\n",
    "        return func(*args, **kwargs)\n",
    "        #print(\"End\")\n",
    "    return wrapper\n",
    "\n",
    "@start_end_dec\n",
    "def print_name(name):\n",
    "    return name\n",
    "    \n",
    "print(print_name(\"Sayan Das\"))                                # Start\n",
    "                                                              # Sayan Das\n",
    "\n",
    "# Function identity of print_name \n",
    "print(help(print_name))\n",
    "\"'    |      |      |  '\"\n",
    "\"'    V      V      V  '\"\n",
    "# Help on function wrapper in module __main__:\n",
    "\n",
    "# wrapper(*args, **kwargs)\n",
    "\n",
    "# None    \n",
    "\n",
    "# To retrieve function identity add functools.wraps(func) decorator before wrapper function\n",
    "def start_end_dec(func):\n",
    "    @functools.wraps(func)\n",
    "    def wrapper(*args, **kwargs):\n",
    "        print(\"Start\")\n",
    "        return func(*args, **kwargs)\n",
    "        #print(\"End\")\n",
    "    return wrapper\n",
    "\n",
    "@start_end_dec\n",
    "def print_name(name):\n",
    "    return name\n",
    "    \n",
    "print(print_name(\"Sayan Das\"))                                # Start\n",
    "                                                              # Sayan Das\n",
    "\n",
    "# Function identity of print_name \n",
    "print(help(print_name))\n",
    "\"'    |      |      |  '\"\n",
    "\"'    V      V      V  '\"\n",
    "# Help on function print_name in module __main__:\n",
    "\n",
    "# print_name(name)\n",
    "\n",
    "# None    \n"
   ]
  },
  {
   "cell_type": "code",
   "execution_count": null,
   "metadata": {},
   "outputs": [],
   "source": [
    "# Decorators with arguments\n",
    "\n",
    "def repeat(num_times):\n",
    "    def decorator_repeat(func):\n",
    "        @functools.wraps(func)\n",
    "        def wrapper(*args, **kwargs):\n",
    "            for _ in range(num_times):\n",
    "                result = func(*args, **kwargs)\n",
    "            return result    \n",
    "        return wrapper\n",
    "    return decorator_repeat\n",
    "\n",
    "@repeat(num_times=3)\n",
    "def greet(name):\n",
    "    print(\"Hello \" + name)\n",
    "\n",
    "greet(\"Sayan\")                                              # Hello Sayan         \n",
    "                                                            # Hello Sayan\n",
    "                                                            # Hello Sayan"
   ]
  },
  {
   "cell_type": "code",
   "execution_count": null,
   "metadata": {},
   "outputs": [],
   "source": [
    "# Nested decorators\n",
    "\n",
    "def repeat(num_times):\n",
    "    def decorator_repeat(func):\n",
    "        @functools.wraps(func)\n",
    "        def wrapper(*args, **kwargs):\n",
    "            for _ in range(num_times):\n",
    "                result = func(*args, **kwargs)\n",
    "            return result    \n",
    "        return wrapper\n",
    "    return decorator_repeat\n",
    "\n",
    "def debug(func):\n",
    "    @functools.wraps(func)\n",
    "    def wrapper(*args, **kwargs):\n",
    "        args_rep = [repr(a) for a in args]                         # parsing arguments\n",
    "        kwargs_rep = [f\"{k}={v!r}\" for k,v in kwargs.items()]      # parsing keyword arguments\n",
    "        signature = \", \".join(args_rep+kwargs_rep)                 # creating signature for function\n",
    "        print(f\"Calling {func.__name__}({signature})\")             # calling statement\n",
    "        result = func(*args, **kwargs)                             # function result\n",
    "        print(f\"{func.__name__!r} returned {result!r}\")            # printing function result\n",
    "        return result\n",
    "    return wrapper\n",
    "\n",
    "\n",
    "# Decorators run sequentially as per their order\n",
    "@debug\n",
    "@repeat(num_times=2)\n",
    "def greet(name):\n",
    "    print(\"Hello \" + name)\n",
    "    return \"Hello \" + name\n",
    "\n",
    "greet(\"Sayan\")                                              # Calling greet('Sayan')         \n",
    "                                                            # Hello Sayan\n",
    "                                                            # Hello Sayan\n",
    "                                                            # 'greet' returned 'Hello Sayan'"
   ]
  },
  {
   "cell_type": "markdown",
   "metadata": {},
   "source": [
    "## Class Decorators\n",
    "Decorators defined as classes"
   ]
  },
  {
   "cell_type": "code",
   "execution_count": null,
   "metadata": {},
   "outputs": [],
   "source": [
    "class countCalls:\n",
    "    def __init__(self, func):\n",
    "        self.num_calls = 0\n",
    "        self.func = func\n",
    "    def __call__(self, *args, **kwargs):\n",
    "        self.num_calls+=1\n",
    "        print(f\"{self.func.__name__} is called {self.num_calls} times!\")\n",
    "        return self.func(*args, **kwargs)\n",
    "\n",
    "@countCalls\n",
    "def greet(name):\n",
    "    print(\"Hello \" + name)\n",
    "    return \"Hello \" + name\n",
    "\n",
    "greet(\"Sayan\")                                             # greet is called 1 times!\n",
    "                                                           # Hello Sayan\n",
    "greet(\"Sayan\")                                             # greet is called 2 times!\n",
    "                                                           # Hello Sayan\n",
    "greet(\"Sayan\")                                             # greet is called 3 times!\n",
    "                                                           # Hello Sayan\n"
   ]
  },
  {
   "cell_type": "markdown",
   "metadata": {},
   "source": [
    "## Applications of Decorators:\n",
    "1. Timer Decorator for calculating execution time for a function.\n",
    "2. Debug Decorator for debugging purpose.\n",
    "3. Check Decorators for validating arguments of the function.\n",
    "4. Registering plugins.\n",
    "5. To cache results/return values... etc."
   ]
  },
  {
   "cell_type": "code",
   "execution_count": null,
   "metadata": {},
   "outputs": [],
   "source": []
  }
 ],
 "metadata": {
  "kernelspec": {
   "display_name": "Python 3",
   "language": "python",
   "name": "python3"
  },
  "language_info": {
   "codemirror_mode": {
    "name": "ipython",
    "version": 3
   },
   "file_extension": ".py",
   "mimetype": "text/x-python",
   "name": "python",
   "nbconvert_exporter": "python",
   "pygments_lexer": "ipython3",
   "version": "3.8.3"
  }
 },
 "nbformat": 4,
 "nbformat_minor": 4
}
