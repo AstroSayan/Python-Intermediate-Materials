{
 "cells": [
  {
   "cell_type": "markdown",
   "metadata": {},
   "source": [
    "# random Module"
   ]
  },
  {
   "cell_type": "markdown",
   "metadata": {},
   "source": [
    "## random method\n",
    "Returns a random float\n",
    "## uniform method\n",
    "Returns a random float within specified range\n",
    "## randint method\n",
    "Returns a random integer within a specified range (including the upperbound)\n",
    "## randrange method\n",
    "Returns a random integer within a specified range (excluding the upperbound)\n",
    "## normalvariate method\n",
    "Returns a random normal distribution value of a specified mean (mu) & std. deviation (sigma)"
   ]
  },
  {
   "cell_type": "code",
   "execution_count": null,
   "metadata": {},
   "outputs": [],
   "source": [
    "import random as r\n",
    "\n",
    "a = r.random()\n",
    "print(a)                                                         # 0.909374908539443\n",
    "\n",
    "a = r.uniform(0, 10)\n",
    "print(a)                                                         # 2.3912342329981486\n",
    "\n",
    "a = r.randint(0, 10)\n",
    "print(a)                                                         # 10\n",
    "\n",
    "a = r.randrange(0, 10)\n",
    "print(a)                                                         # 6\n",
    "\n",
    "a = r.normalvariate(0, 1)\n",
    "print(a)                                                         # 0.07991091682502621"
   ]
  },
  {
   "cell_type": "markdown",
   "metadata": {},
   "source": [
    "## List operations\n",
    "## choice method\n",
    "Returns a random element from a given list\n",
    "## sample method\n",
    "Returns unique random element combination list (no. of required elements should be specified) from a given list (never picks an element twice)\n",
    "## choices method\n",
    "Returns random element combination list (k = no. of required elements, should be specified) from a given list\n",
    "## shuffle method\n",
    "Returns a randomly shuffled list from a given list"
   ]
  },
  {
   "cell_type": "code",
   "execution_count": null,
   "metadata": {},
   "outputs": [],
   "source": [
    "l = list(\"MYNAMEISSAYAN\")\n",
    "\n",
    "a = r.choice(l)\n",
    "print(a)                                                        # M\n",
    "\n",
    "a = r.sample(l, 3)\n",
    "print(a)                                                        # ['N', 'M', 'N']\n",
    "\n",
    "a = r.choices(l, k=3)\n",
    "print(a)                                                        # ['E', 'E', 'Y']\n",
    "\n",
    "r.shuffle(l)\n",
    "print(l)                                                        # ['A', 'I', 'A', 'Y', 'E', 'N', 'S', 'M', 'M', 'Y', 'S', 'A', 'N']"
   ]
  },
  {
   "cell_type": "markdown",
   "metadata": {},
   "source": [
    "## seed method\n",
    "random module returns pseudorandom numbers, which are reproducable. Using seed method we can verify that. Same seed value always returns same random values."
   ]
  },
  {
   "cell_type": "code",
   "execution_count": null,
   "metadata": {},
   "outputs": [],
   "source": [
    "r.seed(1)\n",
    "print(r.random())                                              # 0.13436424411240122\n",
    "print(r.randint(1,10))                                         # 2\n",
    "\n",
    "r.seed(2)\n",
    "print(r.random())                                              # 0.9560342718892494\n",
    "print(r.randint(1,10))                                         # 1\n",
    "\n",
    "r.seed(1)\n",
    "print(r.random())                                              # 0.13436424411240122\n",
    "print(r.randint(1,10))                                         # 2\n",
    "\n",
    "r.seed(2)\n",
    "print(r.random())                                              # 0.9560342718892494\n",
    "print(r.randint(1,10))                                         # 1"
   ]
  },
  {
   "cell_type": "markdown",
   "metadata": {},
   "source": [
    "# secrets module\n",
    "To overcome the reproducibility of random module, we can use secrets module instead. It returns truly random numbers."
   ]
  },
  {
   "cell_type": "markdown",
   "metadata": {},
   "source": [
    "## randbelow method\n",
    "Returns a random integer within 0 and the specified upperbound (excluding the upperbound)\n",
    "## randbits method\n",
    "Returns a number made out of random bits (0 or 1) of specified bit length\n",
    "## choice method\n",
    "Returns a truly random element from a given list"
   ]
  },
  {
   "cell_type": "code",
   "execution_count": null,
   "metadata": {},
   "outputs": [],
   "source": [
    "import secrets as s\n",
    "\n",
    "a = s.randbelow(10)\n",
    "print(a)                                                        # 9\n",
    "\n",
    "a = s.randbits(16)\n",
    "print(a)                                                        # 8217 (random 16 bit number)\n",
    "\n",
    "l = list(\"MYNAMEISSAYAN\")\n",
    "a = r.choice(l)\n",
    "print(a)                                                        # Y\n"
   ]
  },
  {
   "cell_type": "markdown",
   "metadata": {},
   "source": [
    "## numpy module\n",
    "Can be used to produce arrays consisting random numbers. It also has seed generator but different from random module's."
   ]
  },
  {
   "cell_type": "markdown",
   "metadata": {},
   "source": [
    "## random.rand method\n",
    "Returns an array of specified size consisting random floats\n",
    "## random.randint method\n",
    "Returns an array of specified size consisting random integers within specified range\n",
    "## random.shuffle method\n",
    "Shuffles the rows of given array"
   ]
  },
  {
   "cell_type": "code",
   "execution_count": null,
   "metadata": {},
   "outputs": [],
   "source": [
    "import numpy as np\n",
    "import numpy.random as nr\n",
    "\n",
    "a = nr.rand(3)\n",
    "print(a)                                                       # [0.23245331 0.7128889  0.61853624]\n",
    "\n",
    "a = nr.rand(3,4)\n",
    "print(a)                                                       # [[0.77228585 0.03977584 0.9912012  0.57532302]\n",
    "                                                               #  [0.41700077 0.5322194  0.69526676 0.92317468]\n",
    "                                                               #  [0.56456138 0.46168652 0.73763958 0.86822372]]\n",
    "\n",
    "a = nr.randint(0, 10, 3)\n",
    "print(a)                                                       # [4 1 0]\n",
    "\n",
    "a = nr.randint(0, 10, (3,4))\n",
    "print(a)                                                       # [[0 2 9 0]\n",
    "                                                               #  [5 9 5 3]\n",
    "                                                               #  [3 6 1 0]]\n",
    "\n",
    "arr = np.array([[1,2,3],[4,5,6],[7,8,9]])\n",
    "print(arr)                                                     # [[1 2 3]\n",
    "                                                               #  [4 5 6]\n",
    "                                                               #  [7 8 9]]\n",
    "nr.shuffle(arr)\n",
    "print(arr)                                                     # [[4 5 6]\n",
    "                                                               #  [7 8 9]\n",
    "                                                               #  [1 2 3]]"
   ]
  },
  {
   "cell_type": "code",
   "execution_count": null,
   "metadata": {},
   "outputs": [],
   "source": []
  }
 ],
 "metadata": {
  "kernelspec": {
   "display_name": "Python 3",
   "language": "python",
   "name": "python3"
  },
  "language_info": {
   "codemirror_mode": {
    "name": "ipython",
    "version": 3
   },
   "file_extension": ".py",
   "mimetype": "text/x-python",
   "name": "python",
   "nbconvert_exporter": "python",
   "pygments_lexer": "ipython3",
   "version": "3.8.3"
  }
 },
 "nbformat": 4,
 "nbformat_minor": 4
}
